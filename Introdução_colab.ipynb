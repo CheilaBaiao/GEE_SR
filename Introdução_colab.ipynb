{
  "nbformat": 4,
  "nbformat_minor": 0,
  "metadata": {
    "colab": {
      "provenance": [],
      "authorship_tag": "ABX9TyN4uJBwQrAik1WL8RetyEoo",
      "include_colab_link": true
    },
    "kernelspec": {
      "name": "python3",
      "display_name": "Python 3"
    },
    "language_info": {
      "name": "python"
    }
  },
  "cells": [
    {
      "cell_type": "markdown",
      "metadata": {
        "id": "view-in-github",
        "colab_type": "text"
      },
      "source": [
        "<a href=\"https://colab.research.google.com/github/CheilaBaiao/GEE_SR/blob/main/Introdu%C3%A7%C3%A3o_colab.ipynb\" target=\"_parent\"><img src=\"https://colab.research.google.com/assets/colab-badge.svg\" alt=\"Open In Colab\"/></a>"
      ]
    },
    {
      "cell_type": "markdown",
      "source": [
        "# 📒 Script didático inicial para o Colab\n"
      ],
      "metadata": {
        "id": "eOXsfLPB-XPF"
      }
    },
    {
      "cell_type": "markdown",
      "source": [
        "# 🐍 Introdução ao Google Colab e Python para nosso projeto 🌱\n",
        "\n",
        "Bem-vindos ao **Google Colab**!  \n",
        "Aqui vamos aprender os primeiros passos de programação em Python aplicados ao nosso projeto de **análise de dados ambientais** (NDVI, chuva, suscetibilidade a deslizamentos).\n",
        "\n",
        "---"
      ],
      "metadata": {
        "id": "4NV6FR6N-yGV"
      }
    },
    {
      "cell_type": "markdown",
      "source": [
        "## 1. O que é uma biblioteca?\n",
        "\n",
        "Uma **biblioteca** é como uma \"caixa de ferramentas\" que alguém já construiu para facilitar nossa vida.  \n",
        "Em vez de reinventar a roda, usamos bibliotecas prontas para:\n",
        "\n",
        "- 📊 **pandas** → trabalhar com tabelas (como se fosse um Excel no Python).  \n",
        "- ➗ **numpy** → fazer contas matemáticas rápidas.  \n",
        "- 📈 **matplotlib** → desenhar gráficos.  \n",
        "- 🌍 **geopandas** → trabalhar com mapas (arquivos shapefile, vetores).  \n",
        "- 🛰️ **rasterio / rioxarray** → abrir imagens de satélite (rasters como NDVI, chuva, altitude).  \n",
        "- 🤖 **scikit-learn** → treinar modelos de machine learning.  \n",
        "- ⚡ **lightgbm** → modelo mais avançado e rápido para prever deslizamentos.\n",
        "\n",
        "---"
      ],
      "metadata": {
        "id": "46ke8IbV-2lW"
      }
    },
    {
      "cell_type": "markdown",
      "source": [
        "## 2. Instalando bibliotecas (quando necessário)\n",
        "\n",
        "No Colab, algumas já vêm instaladas. Outras precisamos instalar com `pip install`.\n",
        "\n",
        "```python"
      ],
      "metadata": {
        "id": "PiF5FbPF_BJ3"
      }
    },
    {
      "cell_type": "code",
      "source": [
        "# Execute esta célula (clique no botão ▶️ à esquerda)\n",
        "!pip install geopandas rasterio rioxarray lightgbm"
      ],
      "metadata": {
        "id": "ah7R-8VU-8Lk"
      },
      "execution_count": null,
      "outputs": []
    },
    {
      "cell_type": "markdown",
      "source": [
        "## 3. Importando bibliotecas (usar as ferramentas no código)\n",
        "\n",
        "Instalar é “colocar a caixa de ferramentas no ambiente”.\n",
        "Importar é “abrir a caixa e pegar as ferramentas”."
      ],
      "metadata": {
        "id": "tDGlNNj7_GUV"
      }
    },
    {
      "cell_type": "markdown",
      "source": [],
      "metadata": {
        "id": "WojRi0p7_XHV"
      }
    },
    {
      "cell_type": "code",
      "source": [
        "import pandas as pd       # trabalhar com tabelas\n",
        "import numpy as np        # cálculos numéricos\n",
        "import matplotlib.pyplot as plt  # gráficos\n",
        "\n",
        "import geopandas as gpd   # mapas vetoriais\n",
        "import rasterio           # imagens de satélite (rasters)\n",
        "import rioxarray as rxr   # rasters + análise"
      ],
      "metadata": {
        "id": "1zEfKOk1_OZU"
      },
      "execution_count": null,
      "outputs": []
    },
    {
      "cell_type": "markdown",
      "source": [
        "## 4. Acessando arquivos do Google Drive\n",
        "\n",
        "Nosso projeto tem dados guardados no Drive. Para usar:"
      ],
      "metadata": {
        "id": "sR2bkv6l_ccs"
      }
    },
    {
      "cell_type": "code",
      "source": [
        "from google.colab import drive\n",
        "drive.mount('/content/drive')   # peça permissão → clique no link → copie o código → cole\n",
        "\n",
        "# Defina o caminho para a pasta do projeto\n",
        "PROJ = \"/content/drive/MyDrive/Pantanal_TippingPoints\""
      ],
      "metadata": {
        "id": "wA77_0Jk_e-k"
      },
      "execution_count": null,
      "outputs": []
    },
    {
      "cell_type": "markdown",
      "source": [
        "## 5. Primeiros comandos em Python\n",
        "Variáveis (guardar valores)"
      ],
      "metadata": {
        "id": "7gwsxb65_s49"
      }
    },
    {
      "cell_type": "code",
      "source": [
        "nome = \"NDVI\"\n",
        "ano = 2022\n",
        "chuva_mm = 250\n",
        "print(nome, ano, chuva_mm)"
      ],
      "metadata": {
        "id": "-EL0RTyo_x-U"
      },
      "execution_count": null,
      "outputs": []
    },
    {
      "cell_type": "markdown",
      "source": [
        "Listas (vários valores juntos)"
      ],
      "metadata": {
        "id": "7AycgEDz_2AG"
      }
    },
    {
      "cell_type": "code",
      "source": [
        "anos = [1985, 1990, 1995, 2000]\n",
        "print(\"Lista de anos:\", anos)"
      ],
      "metadata": {
        "id": "Qa6PuAvy_5oG"
      },
      "execution_count": null,
      "outputs": []
    },
    {
      "cell_type": "markdown",
      "source": [
        "Dicionário (tipo “planilha pequena”)"
      ],
      "metadata": {
        "id": "PhAhsjSQ_8Ne"
      }
    },
    {
      "cell_type": "code",
      "source": [
        "info = {\"NDVI\": 0.75, \"chuva\": 120, \"deslizamento\": 1}\n",
        "print(info)"
      ],
      "metadata": {
        "id": "0UXU61ob__cF"
      },
      "execution_count": null,
      "outputs": []
    },
    {
      "cell_type": "markdown",
      "source": [
        "## 6. Trabalhando com tabelas (pandas)"
      ],
      "metadata": {
        "id": "zof2E6CXAD-V"
      }
    },
    {
      "cell_type": "code",
      "source": [
        "# Criando tabela fictícia\n",
        "dados = pd.DataFrame({\n",
        "    \"Ano\": [1985, 1990, 1995, 2000],\n",
        "    \"NDVI\": [0.45, 0.50, 0.60, 0.55],\n",
        "    \"Chuva_mm\": [200, 250, 180, 300],\n",
        "    \"Deslizamento\": [0, 1, 0, 1]\n",
        "})\n",
        "\n",
        "# Mostrar os primeiros registros\n",
        "print(dados.head())\n",
        "\n",
        "# Estatísticas rápidas\n",
        "print(dados.describe())"
      ],
      "metadata": {
        "id": "aGJVO5W0AITc"
      },
      "execution_count": null,
      "outputs": []
    },
    {
      "cell_type": "markdown",
      "source": [
        "## 7. Gráfico simples"
      ],
      "metadata": {
        "id": "pMyka8_sAMt9"
      }
    },
    {
      "cell_type": "code",
      "source": [
        "plt.plot(dados[\"Ano\"], dados[\"NDVI\"], marker=\"o\")\n",
        "plt.title(\"NDVI ao longo dos anos\")\n",
        "plt.xlabel(\"Ano\")\n",
        "plt.ylabel(\"NDVI\")\n",
        "plt.show()"
      ],
      "metadata": {
        "id": "cfKLRNalAP18"
      },
      "execution_count": null,
      "outputs": []
    },
    {
      "cell_type": "markdown",
      "source": [
        "## 8. Abrindo um raster (NDVI ou chuva)"
      ],
      "metadata": {
        "id": "iT_UzqrNAURV"
      }
    },
    {
      "cell_type": "code",
      "source": [
        "# caminho do seu stack\n",
        "raster_path = '/content/drive/MyDrive/Pantanal_TippingPoints/NDVI_Pantanal_2004_stack_300m.tif'\n",
        "\n",
        "# abre o raster (stack 12 x y x)\n",
        "rio = rxr.open_rasterio(raster_path)\n",
        "\n",
        "# >>> escolha a banda (1 a 12)\n",
        "b = 3  # mude aqui: 1=jan, 2=feb, ... 12=dez (se for mensal)\n",
        "\n",
        "# pega só a banda escolhida (2D)\n",
        "da = rio.sel(band=b).squeeze()\n",
        "\n",
        "# trata NoData como NaN (para colorbar ficar ok)\n",
        "nodata = da.rio.nodata\n",
        "if nodata is not None:\n",
        "    da = da.where(da != nodata)\n",
        "\n",
        "# plota\n",
        "plt.figure(figsize=(8,6))\n",
        "plt.imshow(da, cmap=\"YlGn\")\n",
        "plt.colorbar(label=f\"NDVI (banda {b})\")\n",
        "plt.title(f\"NDVI 2004 — banda {b}\")\n",
        "plt.xlabel(\"x\"); plt.ylabel(\"y\")\n",
        "plt.show()"
      ],
      "metadata": {
        "id": "F5XE1-wwAYM8"
      },
      "execution_count": null,
      "outputs": []
    },
    {
      "cell_type": "markdown",
      "source": [
        "## 9. GeoPandas: abrindo shapefile"
      ],
      "metadata": {
        "id": "tiL-C9d-AfK2"
      }
    },
    {
      "cell_type": "code",
      "source": [
        "# Exemplo: shapefile de pontos de deslizamento\n",
        "shp_path = '/content/drive/MyDrive/Pantanal_TippingPoints/Pantanal.shp'\n",
        "gdf = gpd.read_file(shp_path)\n",
        "print(gdf.head())"
      ],
      "metadata": {
        "id": "iYLBztOTAif8"
      },
      "execution_count": null,
      "outputs": []
    }
  ]
}